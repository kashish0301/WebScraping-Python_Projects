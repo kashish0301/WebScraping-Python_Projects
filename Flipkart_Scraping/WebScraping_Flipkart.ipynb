{
 "cells": [
  {
   "cell_type": "code",
   "execution_count": 29,
   "id": "042d3bd0-b02f-4abf-be5f-3e0a13e9077d",
   "metadata": {},
   "outputs": [],
   "source": [
    "import requests\n",
    "import os\n",
    "import pandas as pd\n",
    "from bs4 import BeautifulSoup"
   ]
  },
  {
   "cell_type": "code",
   "execution_count": 30,
   "id": "63847586-fdb2-4447-9e9e-71403a83cdf7",
   "metadata": {},
   "outputs": [],
   "source": [
    "url=\"https://www.flipkart.com/laptops/~buyback-guarantee-on-laptops-/pr?sid=6bo%2Cb5g&uniqBStoreParam1=val1&wid=11.productCard.PMU_V2\"\n",
    "webpage= requests.get(url)\n",
    "web = webpage.content\n",
    "soup = BeautifulSoup(web, \"html.parser\")"
   ]
  },
  {
   "cell_type": "code",
   "execution_count": 31,
   "id": "59092745-bb47-44ca-a4e9-9ffbd18806e4",
   "metadata": {
    "tags": []
   },
   "outputs": [],
   "source": [
    "products=[] #List to store name of the product\n",
    "prices=[] #List to store price of the product\n",
    "ratings=[] #List to store rating of the product\n",
    "\n",
    "all_laptops = soup.findAll('a',href=True, attrs={'class':'_1fQZEK'})\n",
    "\n",
    "for laptop in all_laptops:\n",
    "    name=laptop.find('div', attrs={'class':'_4rR01T'})\n",
    "    price=laptop.find('div', attrs={'class':'_30jeq3'})\n",
    "    rating=laptop.find('div', attrs={'class':'_3LWZlK'})\n",
    "    products.append(name.text)\n",
    "    prices.append(price.text)\n",
    "    ratings.append(rating.text) \n",
    "    \n",
    "#print(products)"
   ]
  },
  {
   "cell_type": "code",
   "execution_count": 32,
   "id": "e22017ac-3ee4-446a-80b1-79ac8ee5678c",
   "metadata": {},
   "outputs": [],
   "source": [
    "df = pd.DataFrame({'Product Name':products,'Price':prices,'Rating':ratings}) \n",
    "df.to_csv('products.csv', index=False, encoding='utf-8')"
   ]
  },
  {
   "cell_type": "code",
   "execution_count": null,
   "id": "025a6be7-656d-458d-a426-ac045707900d",
   "metadata": {},
   "outputs": [],
   "source": []
  }
 ],
 "metadata": {
  "kernelspec": {
   "display_name": "Python 3 (ipykernel)",
   "language": "python",
   "name": "python3"
  },
  "language_info": {
   "codemirror_mode": {
    "name": "ipython",
    "version": 3
   },
   "file_extension": ".py",
   "mimetype": "text/x-python",
   "name": "python",
   "nbconvert_exporter": "python",
   "pygments_lexer": "ipython3",
   "version": "3.9.12"
  }
 },
 "nbformat": 4,
 "nbformat_minor": 5
}
